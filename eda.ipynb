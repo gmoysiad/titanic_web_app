{
 "cells": [
  {
   "cell_type": "code",
   "execution_count": 69,
   "metadata": {
    "collapsed": true
   },
   "outputs": [],
   "source": [
    "import pandas as pd\n",
    "import numpy as np\n",
    "from sklearn.model_selection import train_test_split\n"
   ]
  },
  {
   "cell_type": "code",
   "execution_count": 71,
   "outputs": [],
   "source": [
    "train = pd.read_csv('data/train.csv')\n",
    "test = pd.read_csv('data/test.csv')"
   ],
   "metadata": {
    "collapsed": false,
    "pycharm": {
     "name": "#%%\n"
    }
   }
  },
  {
   "cell_type": "code",
   "execution_count": 72,
   "outputs": [],
   "source": [
    "embark_label = train[\"Embarked\"].mode()[0]\n",
    "train[\"Cabin\"] = train[\"Cabin\"].replace(np.NAN,  \"Unknown\")\n",
    "train[\"Embarked\"] = train[\"Embarked\"].replace(np.NAN, embark_label)\n",
    "train[\"Age\"] = train[\"Age\"].replace(np.NAN, train[\"Age\"].median())\n",
    "test[\"Cabin\"] = test[\"Cabin\"].replace(np.NAN, \"Unknown\")\n",
    "test[\"Age\"] = test[\"Age\"].replace(np.NAN, test[\"Age\"].median())\n",
    "test[\"Fare\"] = test[\"Fare\"].replace(np.NAN, test[\"Fare\"].mean())"
   ],
   "metadata": {
    "collapsed": false,
    "pycharm": {
     "name": "#%%\n"
    }
   }
  },
  {
   "cell_type": "code",
   "execution_count": 73,
   "outputs": [
    {
     "name": "stdout",
     "output_type": "stream",
     "text": [
      "['A10', 'A11', 'A14', 'A16', 'A18', 'A19', 'A20', 'A21', 'A23', 'A24', 'A26', 'A29', 'A31', 'A32', 'A34', 'A36', 'A5', 'A6', 'A7', 'A9', 'B10', 'B101', 'B102', 'B11', 'B18', 'B19', 'B20', 'B22', 'B24', 'B26']\n"
     ]
    }
   ],
   "source": [
    "cabin_labels = sorted(set(list(train[\"Cabin\"].unique()) + list(test[\"Cabin\"].unique())))\n",
    "print(cabin_labels[:30])"
   ],
   "metadata": {
    "collapsed": false,
    "pycharm": {
     "name": "#%%\n"
    }
   }
  },
  {
   "cell_type": "code",
   "execution_count": 74,
   "outputs": [],
   "source": [
    "train[\"Cabin_type\"] = train[\"Cabin\"].apply(lambda cabin: cabin[0])\n",
    "test[\"Cabin_type\"] = test[\"Cabin\"].apply(lambda cabin: cabin[0])"
   ],
   "metadata": {
    "collapsed": false,
    "pycharm": {
     "name": "#%%\n"
    }
   }
  },
  {
   "cell_type": "code",
   "execution_count": 75,
   "outputs": [
    {
     "data": {
      "text/plain": "0    U\n1    C\n2    U\n3    C\n4    U\nName: Cabin_type, dtype: object"
     },
     "execution_count": 75,
     "metadata": {},
     "output_type": "execute_result"
    }
   ],
   "source": [
    "train[\"Cabin_type\"].head()"
   ],
   "metadata": {
    "collapsed": false,
    "pycharm": {
     "name": "#%%\n"
    }
   }
  },
  {
   "cell_type": "code",
   "execution_count": 76,
   "outputs": [],
   "source": [
    "train[\"family_member_size\"] = 1 + train[\"SibSp\"] + train[\"Parch\"]\n",
    "test[\"family_member_size\"] = 1 + test[\"SibSp\"] + test[\"Parch\"]"
   ],
   "metadata": {
    "collapsed": false,
    "pycharm": {
     "name": "#%%\n"
    }
   }
  },
  {
   "cell_type": "code",
   "execution_count": 77,
   "outputs": [],
   "source": [
    "categorical_features = [\"Sex\", \"Cabin_type\", \"Embarked\"]\n",
    "categorical_label_dictionary = dict()\n",
    "for feature in categorical_features:\n",
    "    unique_labels = sorted(set(list(train[feature].unique()) + list(test[feature].unique())))\n",
    "    for data in [train, test]:\n",
    "        categorical_label_dictionary[feature] = unique_labels\n",
    "        data[feature + \"_value\"] = data[feature].apply(lambda item: unique_labels.index(item))"
   ],
   "metadata": {
    "collapsed": false,
    "pycharm": {
     "name": "#%%\n"
    }
   }
  },
  {
   "cell_type": "code",
   "execution_count": 79,
   "outputs": [],
   "source": [
    "train_test = pd.concat([train, test])"
   ],
   "metadata": {
    "collapsed": false,
    "pycharm": {
     "name": "#%%\n"
    }
   }
  },
  {
   "cell_type": "code",
   "execution_count": 80,
   "outputs": [],
   "source": [
    "for feature in [\"Sex\", \"Cabin_type\", \"Embarked\"]:\n",
    "    items = pd.get_dummies(train_test[feature + \"_value\"])\n",
    "    labels = categorical_label_dictionary[feature]\n",
    "    items.columns = [feature + \"_\" + labels[column] for column in list(items.columns)]\n",
    "    train_test[items.columns] = items\n",
    "    train_test.pop(feature + \"_value\")"
   ],
   "metadata": {
    "collapsed": false,
    "pycharm": {
     "name": "#%%\n"
    }
   }
  },
  {
   "cell_type": "code",
   "execution_count": 81,
   "outputs": [],
   "source": [
    "for column in [\"Name\", \"Sex\", \"Ticket\", \"Cabin\", \"Cabin_type\", \"Embarked\"]:\n",
    "    train_test.pop(column)"
   ],
   "metadata": {
    "collapsed": false,
    "pycharm": {
     "name": "#%%\n"
    }
   }
  },
  {
   "cell_type": "code",
   "execution_count": 82,
   "outputs": [],
   "source": [
    "train_features = train_test.iloc[0: len(train)]\n",
    "test_features = train_test.iloc[len(train):]"
   ],
   "metadata": {
    "collapsed": false,
    "pycharm": {
     "name": "#%%\n"
    }
   }
  },
  {
   "cell_type": "code",
   "execution_count": 83,
   "outputs": [],
   "source": [
    "_ = train_features.pop(\"PassengerId\")\n",
    "_ = test_features.pop(\"Survived\")"
   ],
   "metadata": {
    "collapsed": false,
    "pycharm": {
     "name": "#%%\n"
    }
   }
  },
  {
   "cell_type": "code",
   "execution_count": 85,
   "outputs": [],
   "source": [
    "validation_split = 0.2"
   ],
   "metadata": {
    "collapsed": false,
    "pycharm": {
     "name": "#%%\n"
    }
   }
  },
  {
   "cell_type": "code",
   "execution_count": 86,
   "outputs": [
    {
     "name": "stdout",
     "output_type": "stream",
     "text": [
      "(712, 20) (179, 20) (712,) (179,)\n"
     ]
    }
   ],
   "source": [
    "train_targets = train_features.pop(\"Survived\")\n",
    "train_features, validation_features, train_targets, validation_targets = model_selection.train_test_split(train_features, train_targets, test_size=validation_split, random_state=np.random.randint(1, 1000))\n",
    "print(train_features.shape, validation_features.shape, train_targets.shape, validation_targets.shape)"
   ],
   "metadata": {
    "collapsed": false,
    "pycharm": {
     "name": "#%%\n"
    }
   }
  },
  {
   "cell_type": "code",
   "execution_count": 87,
   "outputs": [
    {
     "data": {
      "text/plain": "['Pclass', 'Fare', 'Sex_value', 'Cabin_type_value']"
     },
     "execution_count": 87,
     "metadata": {},
     "output_type": "execute_result"
    }
   ],
   "source": [
    "logitistc_related_columns = list(train.corr()[train.corr()[\"Survived\"].abs() > 0.2].index)\n",
    "logitistc_related_columns.remove(\"Survived\")\n",
    "logitistc_related_columns"
   ],
   "metadata": {
    "collapsed": false,
    "pycharm": {
     "name": "#%%\n"
    }
   }
  },
  {
   "cell_type": "code",
   "execution_count": 110,
   "outputs": [],
   "source": [
    "from sklearn.linear_model import LogisticRegression\n",
    "\n",
    "logit_train_features, logit_val_features = train_test_split(train[logitistc_related_columns +  [\"Survived\"]], test_size=0.2, random_state=48)\n",
    "logit_train_targets = logit_train_features.pop(\"Survived\")\n",
    "logit_val_targets = logit_val_features.pop(\"Survived\")\n",
    "logit = LogisticRegression(solver='newton-cg')\n",
    "logit.fit(logit_train_features, logit_train_targets)\n",
    "score = logit.score(logit_val_features, logit_val_targets)"
   ],
   "metadata": {
    "collapsed": false,
    "pycharm": {
     "name": "#%%\n"
    }
   }
  },
  {
   "cell_type": "code",
   "execution_count": 126,
   "outputs": [
    {
     "data": {
      "text/plain": "   Pclass  Fare  Sex_value  Cabin_type_value\n0       3  70.3          1                 8",
      "text/html": "<div>\n<style scoped>\n    .dataframe tbody tr th:only-of-type {\n        vertical-align: middle;\n    }\n\n    .dataframe tbody tr th {\n        vertical-align: top;\n    }\n\n    .dataframe thead th {\n        text-align: right;\n    }\n</style>\n<table border=\"1\" class=\"dataframe\">\n  <thead>\n    <tr style=\"text-align: right;\">\n      <th></th>\n      <th>Pclass</th>\n      <th>Fare</th>\n      <th>Sex_value</th>\n      <th>Cabin_type_value</th>\n    </tr>\n  </thead>\n  <tbody>\n    <tr>\n      <th>0</th>\n      <td>3</td>\n      <td>70.3</td>\n      <td>1</td>\n      <td>8</td>\n    </tr>\n  </tbody>\n</table>\n</div>"
     },
     "execution_count": 126,
     "metadata": {},
     "output_type": "execute_result"
    }
   ],
   "source": [
    "inputs = {'Pclass': [3], 'Fare': [70.3], 'Sex_value': [1], 'Cabin_type_value': [8]}\n",
    "test_model = pd.DataFrame.from_dict(inputs)\n",
    "test_model"
   ],
   "metadata": {
    "collapsed": false,
    "pycharm": {
     "name": "#%%\n"
    }
   }
  },
  {
   "cell_type": "code",
   "execution_count": 128,
   "outputs": [
    {
     "name": "stdout",
     "output_type": "stream",
     "text": [
      "[0]\n"
     ]
    }
   ],
   "source": [
    "predictions = logit.predict(test_model)\n",
    "print(predictions)"
   ],
   "metadata": {
    "collapsed": false,
    "pycharm": {
     "name": "#%%\n"
    }
   }
  },
  {
   "cell_type": "code",
   "execution_count": 118,
   "outputs": [
    {
     "name": "stdout",
     "output_type": "stream",
     "text": [
      "Model is saved into to disk successfully Using Pickle\n"
     ]
    }
   ],
   "source": [
    "import pickle\n",
    "\n",
    "model_filename = 'logit.sav'\n",
    "pickle.dump(logit, open(model_filename,'wb'))\n",
    "print('Model is saved into to disk successfully Using Pickle')\n"
   ],
   "metadata": {
    "collapsed": false,
    "pycharm": {
     "name": "#%%\n"
    }
   }
  },
  {
   "cell_type": "code",
   "execution_count": 125,
   "outputs": [
    {
     "name": "stdout",
     "output_type": "stream",
     "text": [
      "Pclass               3.0\n",
      "Fare                50.0\n",
      "Sex_value            0.0\n",
      "Cabin_type_value     8.0\n",
      "Name: 1, dtype: float64\n"
     ]
    }
   ],
   "source": [
    "print(test_model.loc[1])"
   ],
   "metadata": {
    "collapsed": false,
    "pycharm": {
     "name": "#%%\n"
    }
   }
  },
  {
   "cell_type": "code",
   "execution_count": 129,
   "outputs": [
    {
     "name": "stdout",
     "output_type": "stream",
     "text": [
      "[1]\n"
     ]
    }
   ],
   "source": [
    "pickle.load(open(model_filename, 'rb'))\n",
    "\n",
    "inputs = {'Pclass': [3], 'Fare': [80], 'Sex_value': [0], 'Cabin_type_value': [8]}\n",
    "test_model = pd.DataFrame.from_dict(inputs)\n",
    "\n",
    "predictions = logit.predict(test_model)\n",
    "print(predictions)"
   ],
   "metadata": {
    "collapsed": false,
    "pycharm": {
     "name": "#%%\n"
    }
   }
  },
  {
   "cell_type": "code",
   "execution_count": null,
   "outputs": [],
   "source": [],
   "metadata": {
    "collapsed": false,
    "pycharm": {
     "name": "#%%\n"
    }
   }
  }
 ],
 "metadata": {
  "kernelspec": {
   "display_name": "Python 3",
   "language": "python",
   "name": "python3"
  },
  "language_info": {
   "codemirror_mode": {
    "name": "ipython",
    "version": 2
   },
   "file_extension": ".py",
   "mimetype": "text/x-python",
   "name": "python",
   "nbconvert_exporter": "python",
   "pygments_lexer": "ipython2",
   "version": "2.7.6"
  }
 },
 "nbformat": 4,
 "nbformat_minor": 0
}